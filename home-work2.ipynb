{
 "cells": [
  {
   "cell_type": "markdown",
   "id": "48b7d6fb",
   "metadata": {},
   "source": [
    "# DNA Sequencing Algorithms - Homework 2\n",
    "Implementing Naive and Boyer-Moore Algorithms with Comparison & Alignment Counts"
   ]
  },
  {
   "cell_type": "code",
   "execution_count": 113,
   "id": "1de4d840",
   "metadata": {},
   "outputs": [],
   "source": [
    "def readGenome(filename):\n",
    "    genome = ''\n",
    "    with open(filename, 'r') as f:\n",
    "        for line in f:\n",
    "            if not line.startswith('>'):\n",
    "                genome += line.strip()\n",
    "    return genome\n",
    "\n",
    "def HammingDistance(s1, s2):\n",
    "    assert len(s1) == len(s2)\n",
    "    return sum([1 for a, b in zip(s1, s2) if a != b])"
   ]
  },
  {
   "cell_type": "code",
   "execution_count": 114,
   "id": "0d99d1dd",
   "metadata": {},
   "outputs": [],
   "source": [
    "def naive_with_counts(p, t):\n",
    "    occurrences = []\n",
    "    num_alignments = 0\n",
    "    num_character_comparisons = 0\n",
    "    for i in range(len(t) - len(p) + 1):\n",
    "        match = True\n",
    "        for j in range(len(p)):\n",
    "            num_character_comparisons += 1\n",
    "            if t[i+j] != p[j]:\n",
    "                match = False\n",
    "                break\n",
    "        if match:\n",
    "            occurrences.append(i)\n",
    "        num_alignments += 1\n",
    "    return occurrences, num_alignments, num_character_comparisons"
   ]
  },
  {
   "cell_type": "code",
   "execution_count": 115,
   "id": "f737d6ad",
   "metadata": {},
   "outputs": [],
   "source": [
    "def boyer_moore_with_counts(p, p_bm, t):\n",
    "    i = 0\n",
    "    occurrences = []\n",
    "    num_alignments = 0\n",
    "    num_character_comparisons = 0\n",
    "    while i < len(t) - len(p) + 1:\n",
    "        shift = 1\n",
    "        mismatched = False\n",
    "        for j in range(len(p)-1, -1, -1):\n",
    "            num_character_comparisons += 1\n",
    "            if p[j] != t[i+j]:\n",
    "                skip_bc = p_bm.bad_character_rule(j, t[i+j])\n",
    "                skip_gs = p_bm.good_suffix_rule(j)\n",
    "                shift = max(shift, skip_bc, skip_gs)\n",
    "                mismatched = True\n",
    "                break\n",
    "        if not mismatched:\n",
    "            occurrences.append(i)\n",
    "            skip_gs = p_bm.match_skip()\n",
    "            shift = max(shift, skip_gs)\n",
    "        i += shift\n",
    "        num_alignments += 1\n",
    "    return occurrences, num_alignments, num_character_comparisons\n"
   ]
  },
  {
   "cell_type": "code",
   "execution_count": 116,
   "id": "4cd21893",
   "metadata": {},
   "outputs": [],
   "source": [
    "def approximate_match_Index_v2(p, t, n, k):\n",
    "    segment_length = int(round(len(p)/(n+1)))\n",
    "    all_matches = set()\n",
    "    from kmer_index import Index\n",
    "    index = Index(t, k)\n",
    "    index_hits = 0\n",
    "    for i in range(n+1):\n",
    "        start = i*segment_length\n",
    "        end = min((i+1)*segment_length, len(p))\n",
    "        matches = index.query(p[start:end])\n",
    "        for match in matches:\n",
    "            index_hits += 1\n",
    "            offset = match - start\n",
    "            if offset < 0 or offset + len(p) > len(t):\n",
    "                continue\n",
    "            if HammingDistance(p[:start], t[offset:offset+start]) + HammingDistance(p[end:], t[offset+end:offset+len(p)]) <= n:\n",
    "                all_matches.add(offset)\n",
    "    return list(all_matches), index_hits"
   ]
  },
  {
   "cell_type": "code",
   "execution_count": 117,
   "id": "e3e1ac2d",
   "metadata": {},
   "outputs": [],
   "source": [
    "def approximate_match_SubseqIndex(p, t, n, k, ival):\n",
    "    all_matches = set()\n",
    "    from kmer_subseq_index import SubseqIndex\n",
    "    index = SubseqIndex(t, k, ival)\n",
    "    index_hits = 0\n",
    "    for i in range(n+1):\n",
    "        matches = index.query(p[i:])\n",
    "        for match in matches:\n",
    "            index_hits += 1\n",
    "            offset = match - i\n",
    "            if offset < 0 or offset + len(p) > len(t):\n",
    "                continue\n",
    "            if HammingDistance(p, t[offset:offset+len(p)]) <= n:\n",
    "                all_matches.add(offset)\n",
    "    return list(all_matches), index_hits"
   ]
  },
  {
   "cell_type": "code",
   "execution_count": 118,
   "id": "114bfd37",
   "metadata": {},
   "outputs": [],
   "source": [
    "def approximate_match_Index(p, t, n, k):\n",
    "    segment_length = int(round(len(p)/(n+1)))\n",
    "    all_matches = set()\n",
    "    from kmer_index import Index\n",
    "    index = Index(t, k)\n",
    "    for i in range(n+1):\n",
    "        start = i*segment_length\n",
    "        end = min((i+1)*segment_length, len(p))\n",
    "        matches = index.query(p[start:end])\n",
    "        for match in matches:\n",
    "            offset = match - start\n",
    "            if offset < 0 or offset + len(p) > len(t):\n",
    "                continue\n",
    "            mismatches = 0\n",
    "            for j in range(0, start):\n",
    "                if p[j] != t[offset+j]:\n",
    "                    mismatches += 1\n",
    "                    if mismatches > n:\n",
    "                        break\n",
    "            for j in range(end, len(p)):\n",
    "                if p[j] != t[offset+j]:\n",
    "                    mismatches += 1\n",
    "                    if mismatches > n:\n",
    "                        break\n",
    "            if mismatches <= n:\n",
    "                all_matches.add(offset)\n",
    "    return list(all_matches)"
   ]
  },
  {
   "cell_type": "code",
   "execution_count": 119,
   "id": "e56c601a",
   "metadata": {},
   "outputs": [
    {
     "name": "stdout",
     "output_type": "stream",
     "text": [
      "Naive - Alignments Tried: 799954\n",
      "Naive - Character Comparisons: 984143\n",
      "Boyer-Moore - Alignments Tried: 127974\n",
      "Approximate Matches (<=2 mismatches): 19\n",
      "Total Index Hits: 90\n",
      "SubseqIndex - Total Index Hits: 79\n"
     ]
    }
   ],
   "source": [
    "from bm_preproc import BoyerMoore\n",
    "\n",
    "p = \"GGCGCGGTGGCTCACGCCTGTAATCCCAGCACTTTGGGAGGCCGAGG\"\n",
    "t = readGenome(\"chr1.GRCh38.excerpt.fasta\")\n",
    "\n",
    "# Answer to Q1\n",
    "occurrences, num_alignments, num_character_comparisons = naive_with_counts(p, t)\n",
    "print(\"Naive - Alignments Tried:\", num_alignments)\n",
    "\n",
    "# Answer to Q2\n",
    "print(\"Naive - Character Comparisons:\", num_character_comparisons)\n",
    "\n",
    "# Answer to Q3\n",
    "\n",
    "p_bm = BoyerMoore(p, \"ACGT\")\n",
    "bm_occurrences, bm_num_alignments, bm_num_character_comparisons = boyer_moore_with_counts(p, p_bm, t)\n",
    "print(\"Boyer-Moore - Alignments Tried:\", bm_num_alignments)\n",
    "\n",
    "\n",
    "# Answer to Q4 & Q5\n",
    "p_4 = \"GGCGCGGTGGCTCACGCCTGTAAT\"\n",
    "approx_occurrences, index_hits = approximate_match_Index_v2(p_4, t, 2, 8)\n",
    "print(\"Approximate Matches (<=2 mismatches):\", len(approx_occurrences))\n",
    "print(\"Total Index Hits:\", index_hits)\n",
    "\n",
    "# Q6\n",
    "occurrences_subseq, index_hits_subseq = approximate_match_SubseqIndex(p_4, t, 2, 8, 3)\n",
    "print(\"SubseqIndex - Total Index Hits:\", index_hits_subseq)\n"
   ]
  }
 ],
 "metadata": {
  "kernelspec": {
   "display_name": "Python 3 (ipykernel)",
   "language": "python",
   "name": "python3"
  },
  "language_info": {
   "codemirror_mode": {
    "name": "ipython",
    "version": 3
   },
   "file_extension": ".py",
   "mimetype": "text/x-python",
   "name": "python",
   "nbconvert_exporter": "python",
   "pygments_lexer": "ipython3",
   "version": "3.12.1"
  }
 },
 "nbformat": 4,
 "nbformat_minor": 5
}
